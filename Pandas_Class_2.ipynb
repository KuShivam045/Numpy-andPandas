{
 "cells": [
  {
   "cell_type": "code",
   "execution_count": null,
   "id": "034c911b",
   "metadata": {},
   "outputs": [],
   "source": [
    "import pandas as pd"
   ]
  },
  {
   "cell_type": "code",
   "execution_count": null,
   "id": "defa3b69",
   "metadata": {},
   "outputs": [],
   "source": [
    "path = r'‪C:\\Users\\Shivaay\\sales_data_final.csv'\n",
    "df = pd.read_csv(path.strip(\"\\u202a\"))"
   ]
  },
  {
   "cell_type": "code",
   "execution_count": null,
   "id": "2ef606a1",
   "metadata": {},
   "outputs": [],
   "source": [
    "df.head()"
   ]
  },
  {
   "cell_type": "code",
   "execution_count": null,
   "id": "7bf90200",
   "metadata": {},
   "outputs": [],
   "source": [
    "df.tail()"
   ]
  },
  {
   "cell_type": "code",
   "execution_count": null,
   "id": "1f7ba150",
   "metadata": {},
   "outputs": [],
   "source": [
    "df.columns"
   ]
  },
  {
   "cell_type": "code",
   "execution_count": null,
   "id": "52cb5af9",
   "metadata": {},
   "outputs": [],
   "source": [
    "df.dtypes"
   ]
  },
  {
   "cell_type": "code",
   "execution_count": null,
   "id": "52f00b83",
   "metadata": {},
   "outputs": [],
   "source": [
    "df['order_id']"
   ]
  },
  {
   "cell_type": "code",
   "execution_count": null,
   "id": "bc6595f6",
   "metadata": {},
   "outputs": [],
   "source": [
    "type(df['order_id'])"
   ]
  },
  {
   "cell_type": "code",
   "execution_count": null,
   "id": "f0596e00",
   "metadata": {},
   "outputs": [],
   "source": [
    "df[['order_id']]"
   ]
  },
  {
   "cell_type": "code",
   "execution_count": null,
   "id": "87655050",
   "metadata": {},
   "outputs": [],
   "source": [
    "type(df[['order_id']])"
   ]
  },
  {
   "cell_type": "code",
   "execution_count": null,
   "id": "719b4154",
   "metadata": {},
   "outputs": [],
   "source": [
    "df[['order_id','order_date', 'shipping_cost']]"
   ]
  },
  {
   "cell_type": "code",
   "execution_count": null,
   "id": "99170f3f",
   "metadata": {},
   "outputs": [],
   "source": [
    "type(df[['order_id','order_date', 'shipping_cost']])"
   ]
  },
  {
   "cell_type": "code",
   "execution_count": null,
   "id": "ec4ed8c6",
   "metadata": {},
   "outputs": [],
   "source": [
    "df.describe()"
   ]
  },
  {
   "cell_type": "code",
   "execution_count": null,
   "id": "8bd21512",
   "metadata": {},
   "outputs": [],
   "source": [
    "df.dtypes"
   ]
  },
  {
   "cell_type": "code",
   "execution_count": null,
   "id": "40282604",
   "metadata": {},
   "outputs": [],
   "source": [
    "df.dtypes == 'object'"
   ]
  },
  {
   "cell_type": "code",
   "execution_count": null,
   "id": "fa866c03",
   "metadata": {},
   "outputs": [],
   "source": [
    "df.dtypes[df.dtypes == 'object']"
   ]
  },
  {
   "cell_type": "code",
   "execution_count": null,
   "id": "654984f5",
   "metadata": {},
   "outputs": [],
   "source": [
    "df.dtypes[df.dtypes == 'object'].index"
   ]
  },
  {
   "cell_type": "code",
   "execution_count": null,
   "id": "405f03d1",
   "metadata": {},
   "outputs": [],
   "source": [
    "df[df.dtypes[df.dtypes == 'object'].index]"
   ]
  },
  {
   "cell_type": "code",
   "execution_count": null,
   "id": "675d0280",
   "metadata": {},
   "outputs": [],
   "source": [
    "df[df.dtypes[df.dtypes == 'object'].index].describe()"
   ]
  },
  {
   "cell_type": "code",
   "execution_count": null,
   "id": "4d862d7e",
   "metadata": {},
   "outputs": [],
   "source": [
    "df.dtypes == 'float'"
   ]
  },
  {
   "cell_type": "code",
   "execution_count": null,
   "id": "030ddd09",
   "metadata": {},
   "outputs": [],
   "source": [
    "df.dtypes[df.dtypes == 'float'].index"
   ]
  },
  {
   "cell_type": "code",
   "execution_count": null,
   "id": "9b739923",
   "metadata": {},
   "outputs": [],
   "source": [
    "df[df.dtypes[df.dtypes == 'float'].index].describe()"
   ]
  },
  {
   "cell_type": "code",
   "execution_count": null,
   "id": "91e97508",
   "metadata": {},
   "outputs": [],
   "source": [
    "df.columns"
   ]
  },
  {
   "cell_type": "code",
   "execution_count": null,
   "id": "cf10112f",
   "metadata": {},
   "outputs": [],
   "source": [
    "df['order_id'][1:4]"
   ]
  },
  {
   "cell_type": "code",
   "execution_count": null,
   "id": "77e8809b",
   "metadata": {},
   "outputs": [],
   "source": [
    "df['order_id'][1:40:2]"
   ]
  },
  {
   "cell_type": "code",
   "execution_count": null,
   "id": "18741458",
   "metadata": {},
   "outputs": [],
   "source": [
    "df['Category1'] = \"Shivam\""
   ]
  },
  {
   "cell_type": "code",
   "execution_count": null,
   "id": "49aa42c7",
   "metadata": {},
   "outputs": [],
   "source": [
    "df"
   ]
  },
  {
   "cell_type": "code",
   "execution_count": null,
   "id": "626ff2cf",
   "metadata": {},
   "outputs": [],
   "source": [
    "df1 = pd.read_csv('Dress Sales.csv')\n",
    "df1"
   ]
  },
  {
   "cell_type": "code",
   "execution_count": null,
   "id": "58fe3f23",
   "metadata": {},
   "outputs": [],
   "source": [
    "df1.columns"
   ]
  },
  {
   "cell_type": "code",
   "execution_count": null,
   "id": "f74700f3",
   "metadata": {},
   "outputs": [],
   "source": [
    "df1['Unnamed: 26'].isnull()"
   ]
  },
  {
   "cell_type": "code",
   "execution_count": null,
   "id": "a4c66511",
   "metadata": {},
   "outputs": [],
   "source": [
    "df.columns"
   ]
  },
  {
   "cell_type": "code",
   "execution_count": null,
   "id": "9f6f07d1",
   "metadata": {},
   "outputs": [],
   "source": [
    "df[df['profit'] ==max(df['profit'])]['customer_name']"
   ]
  },
  {
   "cell_type": "code",
   "execution_count": null,
   "id": "b17d9349",
   "metadata": {},
   "outputs": [],
   "source": [
    "df[df['country'] == 'Sweden']"
   ]
  },
  {
   "cell_type": "code",
   "execution_count": null,
   "id": "037a595b",
   "metadata": {},
   "outputs": [],
   "source": [
    "len(df[df['country'] == 'Sweden'])"
   ]
  },
  {
   "cell_type": "code",
   "execution_count": null,
   "id": "36c8801e",
   "metadata": {},
   "outputs": [],
   "source": [
    "df[(df['shipping_cost'] >= 100) & (df['profit'] <=  10)]"
   ]
  },
  {
   "cell_type": "code",
   "execution_count": null,
   "id": "25136311",
   "metadata": {},
   "outputs": [],
   "source": [
    "df[(df['shipping_cost'] >= 100) & (df['profit'] <=  10)]['country']"
   ]
  },
  {
   "cell_type": "code",
   "execution_count": null,
   "id": "f76fe00c",
   "metadata": {},
   "outputs": [],
   "source": [
    "date = pd.to_datetime(df['order_date'])\n",
    "type(date[0])"
   ]
  },
  {
   "cell_type": "code",
   "execution_count": null,
   "id": "0a0a13e2",
   "metadata": {},
   "outputs": [],
   "source": [
    "df['converted_date_time'] = date\n",
    "df"
   ]
  },
  {
   "cell_type": "code",
   "execution_count": null,
   "id": "e27247f6",
   "metadata": {},
   "outputs": [],
   "source": [
    "df['order_year'] = df['converted_date_time'].dt.year\n",
    "df.head()"
   ]
  },
  {
   "cell_type": "code",
   "execution_count": null,
   "id": "9e14fe40",
   "metadata": {},
   "outputs": [],
   "source": [
    "df['order_month'] = df['converted_date_time'].dt.month\n",
    "df"
   ]
  },
  {
   "cell_type": "code",
   "execution_count": null,
   "id": "1d21eb2b",
   "metadata": {},
   "outputs": [],
   "source": [
    "df['order_week'] = df['converted_date_time'].dt.week\n",
    "df.head()"
   ]
  },
  {
   "cell_type": "code",
   "execution_count": null,
   "id": "8fdbd1ff",
   "metadata": {},
   "outputs": [],
   "source": [
    "df[['converted_date_time', 'order_week']]"
   ]
  },
  {
   "cell_type": "code",
   "execution_count": null,
   "id": "ae5eda31",
   "metadata": {},
   "outputs": [],
   "source": [
    "df[df['order_year'] == 2014]"
   ]
  },
  {
   "cell_type": "code",
   "execution_count": null,
   "id": "c30aab73",
   "metadata": {},
   "outputs": [],
   "source": [
    "df[\"order_month\"].value_counts()"
   ]
  },
  {
   "cell_type": "code",
   "execution_count": null,
   "id": "b2649bf8",
   "metadata": {},
   "outputs": [],
   "source": [
    "df.head()"
   ]
  },
  {
   "cell_type": "code",
   "execution_count": null,
   "id": "faf13161",
   "metadata": {},
   "outputs": [],
   "source": [
    "df.columns"
   ]
  },
  {
   "cell_type": "code",
   "execution_count": null,
   "id": "5d1807c8",
   "metadata": {},
   "outputs": [],
   "source": [
    "df['cost_to_company'] = df['discount'] + df['shipping_cost']"
   ]
  },
  {
   "cell_type": "code",
   "execution_count": null,
   "id": "0f9d03e3",
   "metadata": {},
   "outputs": [],
   "source": [
    "df.head()"
   ]
  },
  {
   "cell_type": "code",
   "execution_count": null,
   "id": "cbaca326",
   "metadata": {},
   "outputs": [],
   "source": [
    "df['cost_to_company'].max()"
   ]
  },
  {
   "cell_type": "code",
   "execution_count": null,
   "id": "ee25d497",
   "metadata": {},
   "outputs": [],
   "source": [
    "df[df['cost_to_company'] == max(df['cost_to_company'])]"
   ]
  },
  {
   "cell_type": "code",
   "execution_count": null,
   "id": "f12057a5",
   "metadata": {},
   "outputs": [],
   "source": [
    "df[df['cost_to_company'] == max(df['cost_to_company'])]['product_name']"
   ]
  },
  {
   "cell_type": "code",
   "execution_count": null,
   "id": "8fff2c4b",
   "metadata": {},
   "outputs": [],
   "source": [
    "df.drop('cost_to_company', axis = 1, inplace= True)"
   ]
  },
  {
   "cell_type": "code",
   "execution_count": null,
   "id": "db78b40c",
   "metadata": {},
   "outputs": [],
   "source": [
    "df.head()"
   ]
  },
  {
   "cell_type": "code",
   "execution_count": null,
   "id": "e524c4e8",
   "metadata": {},
   "outputs": [],
   "source": [
    "a = df.drop(1)\n",
    "a.head(4)"
   ]
  },
  {
   "cell_type": "code",
   "execution_count": null,
   "id": "68807733",
   "metadata": {},
   "outputs": [],
   "source": [
    "df.drop(1,inplace= True)"
   ]
  },
  {
   "cell_type": "code",
   "execution_count": null,
   "id": "4397026d",
   "metadata": {},
   "outputs": [],
   "source": [
    "df"
   ]
  },
  {
   "cell_type": "code",
   "execution_count": null,
   "id": "a7aa6ff1",
   "metadata": {},
   "outputs": [],
   "source": [
    "df.loc[[2,3]]"
   ]
  },
  {
   "cell_type": "code",
   "execution_count": null,
   "id": "8a8a1168",
   "metadata": {},
   "outputs": [],
   "source": [
    "df.loc[[2,10]]"
   ]
  },
  {
   "cell_type": "code",
   "execution_count": null,
   "id": "e16f1490",
   "metadata": {},
   "outputs": [],
   "source": [
    "df.loc[2:10]"
   ]
  },
  {
   "cell_type": "code",
   "execution_count": null,
   "id": "2bd70284",
   "metadata": {},
   "outputs": [],
   "source": [
    "df.loc[2:10:2]"
   ]
  },
  {
   "cell_type": "code",
   "execution_count": null,
   "id": "da21cc54",
   "metadata": {},
   "outputs": [],
   "source": [
    "df.loc[0:4,['order_id','order_date','ship_date']]"
   ]
  },
  {
   "cell_type": "code",
   "execution_count": null,
   "id": "8c3616b2",
   "metadata": {},
   "outputs": [],
   "source": [
    "df.iloc[0:4,0:3]"
   ]
  },
  {
   "cell_type": "code",
   "execution_count": null,
   "id": "e58d29e1",
   "metadata": {},
   "outputs": [],
   "source": [
    "df.iloc[1:5,3:6]"
   ]
  },
  {
   "cell_type": "code",
   "execution_count": null,
   "id": "a1b02337",
   "metadata": {},
   "outputs": [],
   "source": [
    "df2 = df[df.dtypes[(df.dtypes == 'int64') |(df.dtypes == 'float64')].index]\n",
    "df2"
   ]
  },
  {
   "cell_type": "code",
   "execution_count": null,
   "id": "4d9dc46b",
   "metadata": {},
   "outputs": [],
   "source": [
    "df3 = df2[df2>100]"
   ]
  },
  {
   "cell_type": "code",
   "execution_count": null,
   "id": "8e4f0b7b",
   "metadata": {},
   "outputs": [],
   "source": [
    "df3"
   ]
  },
  {
   "cell_type": "code",
   "execution_count": null,
   "id": "f83d6f17",
   "metadata": {},
   "outputs": [],
   "source": [
    "df3.dropna()"
   ]
  },
  {
   "cell_type": "code",
   "execution_count": null,
   "id": "ad20a01c",
   "metadata": {},
   "outputs": [],
   "source": [
    "df3"
   ]
  },
  {
   "cell_type": "code",
   "execution_count": null,
   "id": "23b39408",
   "metadata": {},
   "outputs": [],
   "source": [
    "df3.dropna(thresh=3)"
   ]
  },
  {
   "cell_type": "code",
   "execution_count": null,
   "id": "83055f13",
   "metadata": {},
   "outputs": [],
   "source": [
    "df3.fillna(value= df3['profit'].mean())"
   ]
  },
  {
   "cell_type": "code",
   "execution_count": null,
   "id": "811bdd0c",
   "metadata": {},
   "outputs": [],
   "source": [
    "df3['quantity'].mean()"
   ]
  },
  {
   "cell_type": "code",
   "execution_count": null,
   "id": "31e9c9e9",
   "metadata": {},
   "outputs": [],
   "source": [
    "df.columns"
   ]
  },
  {
   "cell_type": "code",
   "execution_count": null,
   "id": "f6a58d07",
   "metadata": {},
   "outputs": [],
   "source": [
    "df.groupby('order_year')['profit'].mean()"
   ]
  },
  {
   "cell_type": "code",
   "execution_count": null,
   "id": "d5cc3075",
   "metadata": {},
   "outputs": [],
   "source": [
    "df.groupby('order_year')['sales'].mean()"
   ]
  },
  {
   "cell_type": "code",
   "execution_count": null,
   "id": "7f72e57d",
   "metadata": {},
   "outputs": [],
   "source": [
    "df.groupby('order_year')['shipping_cost'].mean()"
   ]
  },
  {
   "cell_type": "code",
   "execution_count": null,
   "id": "9008e6f4",
   "metadata": {},
   "outputs": [],
   "source": [
    "df.groupby('order_year')['discount'].mean()"
   ]
  },
  {
   "cell_type": "code",
   "execution_count": null,
   "id": "b76a69f4",
   "metadata": {},
   "outputs": [],
   "source": [
    "df.groupby('country')['discount'].mean()"
   ]
  },
  {
   "cell_type": "code",
   "execution_count": null,
   "id": "afd743f2",
   "metadata": {},
   "outputs": [],
   "source": [
    "df['sales'] = df.sales.str.replace(\",\", \"\").astype(int)"
   ]
  },
  {
   "cell_type": "code",
   "execution_count": null,
   "id": "9fc8df2d",
   "metadata": {},
   "outputs": [],
   "source": [
    "df.groupby('country')['sales'].mean()"
   ]
  },
  {
   "cell_type": "code",
   "execution_count": null,
   "id": "e80303de",
   "metadata": {},
   "outputs": [],
   "source": [
    "df.dtypes"
   ]
  },
  {
   "cell_type": "code",
   "execution_count": null,
   "id": "7a67d148",
   "metadata": {},
   "outputs": [],
   "source": [
    "df[['country', 'market']]"
   ]
  }
 ],
 "metadata": {
  "kernelspec": {
   "display_name": "Python 3 (ipykernel)",
   "language": "python",
   "name": "python3"
  },
  "language_info": {
   "codemirror_mode": {
    "name": "ipython",
    "version": 3
   },
   "file_extension": ".py",
   "mimetype": "text/x-python",
   "name": "python",
   "nbconvert_exporter": "python",
   "pygments_lexer": "ipython3",
   "version": "3.9.12"
  }
 },
 "nbformat": 4,
 "nbformat_minor": 5
}
