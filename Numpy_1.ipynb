{
 "cells": [
  {
   "cell_type": "code",
   "execution_count": 2,
   "id": "0252c75f",
   "metadata": {},
   "outputs": [],
   "source": [
    "import numpy as np"
   ]
  },
  {
   "cell_type": "code",
   "execution_count": 3,
   "id": "c7b63a10",
   "metadata": {},
   "outputs": [
    {
     "data": {
      "text/plain": [
       "array([ 2, 22, 36, 54, 45, 56, 42])"
      ]
     },
     "execution_count": 3,
     "metadata": {},
     "output_type": "execute_result"
    }
   ],
   "source": [
    "np.array([2,22,36,54,45,56,42])"
   ]
  },
  {
   "cell_type": "code",
   "execution_count": 4,
   "id": "883b8c1f",
   "metadata": {},
   "outputs": [
    {
     "data": {
      "text/plain": [
       "numpy.ndarray"
      ]
     },
     "execution_count": 4,
     "metadata": {},
     "output_type": "execute_result"
    }
   ],
   "source": [
    "type(np.array([2,22,36,54,45,56,42]))"
   ]
  },
  {
   "cell_type": "code",
   "execution_count": 5,
   "id": "314e1484",
   "metadata": {},
   "outputs": [],
   "source": [
    "l = [1,2,3,4,5]"
   ]
  },
  {
   "cell_type": "code",
   "execution_count": 6,
   "id": "ee1a6ed4",
   "metadata": {},
   "outputs": [
    {
     "data": {
      "text/plain": [
       "array([1, 2, 3, 4, 5])"
      ]
     },
     "execution_count": 6,
     "metadata": {},
     "output_type": "execute_result"
    }
   ],
   "source": [
    "np.array(l)"
   ]
  },
  {
   "cell_type": "code",
   "execution_count": 7,
   "id": "f2a1bf43",
   "metadata": {},
   "outputs": [],
   "source": [
    "l1 = [4,2,4,5,\"Shiv\", 34.325, True]"
   ]
  },
  {
   "cell_type": "code",
   "execution_count": 8,
   "id": "4954d967",
   "metadata": {},
   "outputs": [
    {
     "data": {
      "text/plain": [
       "array(['4', '2', '4', '5', 'Shiv', '34.325', 'True'], dtype='<U32')"
      ]
     },
     "execution_count": 8,
     "metadata": {},
     "output_type": "execute_result"
    }
   ],
   "source": [
    "a1 = np.array(l1)\n",
    "a1"
   ]
  },
  {
   "cell_type": "code",
   "execution_count": 9,
   "id": "47c9ae4f",
   "metadata": {},
   "outputs": [
    {
     "data": {
      "text/plain": [
       "array([[11,  2, 23],\n",
       "       [ 4,  5,  6]])"
      ]
     },
     "execution_count": 9,
     "metadata": {},
     "output_type": "execute_result"
    }
   ],
   "source": [
    "a2 = np.array([[11,2,23], [4,5,6]])\n",
    "a2"
   ]
  },
  {
   "cell_type": "code",
   "execution_count": 10,
   "id": "bee2bcb7",
   "metadata": {},
   "outputs": [
    {
     "data": {
      "text/plain": [
       "array([[[1, 2, 3],\n",
       "        [4, 5, 6],\n",
       "        [7, 8, 9]]])"
      ]
     },
     "execution_count": 10,
     "metadata": {},
     "output_type": "execute_result"
    }
   ],
   "source": [
    "a3 = np.array([[[1,2,3],[4,5,6], [7,8,9]]])\n",
    "a3"
   ]
  },
  {
   "cell_type": "code",
   "execution_count": 11,
   "id": "97aaf56a",
   "metadata": {},
   "outputs": [
    {
     "data": {
      "text/plain": [
       "1"
      ]
     },
     "execution_count": 11,
     "metadata": {},
     "output_type": "execute_result"
    }
   ],
   "source": [
    "a1.ndim"
   ]
  },
  {
   "cell_type": "code",
   "execution_count": 12,
   "id": "e3925f07",
   "metadata": {},
   "outputs": [
    {
     "data": {
      "text/plain": [
       "2"
      ]
     },
     "execution_count": 12,
     "metadata": {},
     "output_type": "execute_result"
    }
   ],
   "source": [
    "a2.ndim"
   ]
  },
  {
   "cell_type": "code",
   "execution_count": 13,
   "id": "59997f70",
   "metadata": {},
   "outputs": [
    {
     "data": {
      "text/plain": [
       "3"
      ]
     },
     "execution_count": 13,
     "metadata": {},
     "output_type": "execute_result"
    }
   ],
   "source": [
    "a3.ndim"
   ]
  },
  {
   "cell_type": "code",
   "execution_count": 14,
   "id": "e0bc4b0a",
   "metadata": {},
   "outputs": [
    {
     "data": {
      "text/plain": [
       "7"
      ]
     },
     "execution_count": 14,
     "metadata": {},
     "output_type": "execute_result"
    }
   ],
   "source": [
    "a1.size"
   ]
  },
  {
   "cell_type": "code",
   "execution_count": 15,
   "id": "89bd64b2",
   "metadata": {},
   "outputs": [
    {
     "data": {
      "text/plain": [
       "6"
      ]
     },
     "execution_count": 15,
     "metadata": {},
     "output_type": "execute_result"
    }
   ],
   "source": [
    "a2.size"
   ]
  },
  {
   "cell_type": "code",
   "execution_count": 16,
   "id": "e8690bf4",
   "metadata": {},
   "outputs": [
    {
     "data": {
      "text/plain": [
       "9"
      ]
     },
     "execution_count": 16,
     "metadata": {},
     "output_type": "execute_result"
    }
   ],
   "source": [
    "a3.size"
   ]
  },
  {
   "cell_type": "code",
   "execution_count": 17,
   "id": "7635b462",
   "metadata": {},
   "outputs": [
    {
     "data": {
      "text/plain": [
       "(7,)"
      ]
     },
     "execution_count": 17,
     "metadata": {},
     "output_type": "execute_result"
    }
   ],
   "source": [
    "a1.shape"
   ]
  },
  {
   "cell_type": "code",
   "execution_count": 18,
   "id": "ddd560ec",
   "metadata": {},
   "outputs": [
    {
     "data": {
      "text/plain": [
       "(2, 3)"
      ]
     },
     "execution_count": 18,
     "metadata": {},
     "output_type": "execute_result"
    }
   ],
   "source": [
    "a2.shape"
   ]
  },
  {
   "cell_type": "code",
   "execution_count": 19,
   "id": "8806cc9c",
   "metadata": {},
   "outputs": [
    {
     "data": {
      "text/plain": [
       "(1, 3, 3)"
      ]
     },
     "execution_count": 19,
     "metadata": {},
     "output_type": "execute_result"
    }
   ],
   "source": [
    "a3.shape"
   ]
  },
  {
   "cell_type": "code",
   "execution_count": 20,
   "id": "f98bc32d",
   "metadata": {},
   "outputs": [
    {
     "data": {
      "text/plain": [
       "array([[[25, 37, 21,  5],\n",
       "        [14, 37, 23, 35],\n",
       "        [23, 38, 41,  7]],\n",
       "\n",
       "       [[ 4, 22, 26, 16],\n",
       "        [ 5, 22, 18,  2],\n",
       "        [24,  7, 34,  8]]])"
      ]
     },
     "execution_count": 20,
     "metadata": {},
     "output_type": "execute_result"
    }
   ],
   "source": [
    "np.random.randint(2,50,(2,3,4))"
   ]
  },
  {
   "cell_type": "code",
   "execution_count": 21,
   "id": "ef928466",
   "metadata": {},
   "outputs": [
    {
     "data": {
      "text/plain": [
       "array([[0.53836637, 0.90446257, 0.44597475, 0.46859797],\n",
       "       [0.12879681, 0.61886368, 0.32691861, 0.96099631],\n",
       "       [0.79635595, 0.64723138, 0.20953341, 0.85458077],\n",
       "       [0.52495594, 0.25475554, 0.98057389, 0.09155407]])"
      ]
     },
     "execution_count": 21,
     "metadata": {},
     "output_type": "execute_result"
    }
   ],
   "source": [
    "a4 = np.random.rand(4,4)\n",
    "a4"
   ]
  },
  {
   "cell_type": "markdown",
   "id": "d72a3e80",
   "metadata": {},
   "source": [
    "# whenever you call the reshape function makesure that it is devided in equal distribution:\n",
    "\n",
    "(4,4) = 16\n",
    "\n",
    "(8,2) = 16\n",
    "\n",
    "(16,1) = 16"
   ]
  },
  {
   "cell_type": "code",
   "execution_count": 22,
   "id": "e16ea920",
   "metadata": {},
   "outputs": [
    {
     "data": {
      "text/plain": [
       "array([[0.53836637, 0.90446257],\n",
       "       [0.44597475, 0.46859797],\n",
       "       [0.12879681, 0.61886368],\n",
       "       [0.32691861, 0.96099631],\n",
       "       [0.79635595, 0.64723138],\n",
       "       [0.20953341, 0.85458077],\n",
       "       [0.52495594, 0.25475554],\n",
       "       [0.98057389, 0.09155407]])"
      ]
     },
     "execution_count": 22,
     "metadata": {},
     "output_type": "execute_result"
    }
   ],
   "source": [
    "a4.reshape(8,2)"
   ]
  },
  {
   "cell_type": "code",
   "execution_count": 23,
   "id": "7fbf5043",
   "metadata": {},
   "outputs": [
    {
     "data": {
      "text/plain": [
       "array([[0.53836637, 0.90446257, 0.44597475, 0.46859797, 0.12879681,\n",
       "        0.61886368, 0.32691861, 0.96099631],\n",
       "       [0.79635595, 0.64723138, 0.20953341, 0.85458077, 0.52495594,\n",
       "        0.25475554, 0.98057389, 0.09155407]])"
      ]
     },
     "execution_count": 23,
     "metadata": {},
     "output_type": "execute_result"
    }
   ],
   "source": [
    "a4.reshape(2,-1)"
   ]
  },
  {
   "cell_type": "code",
   "execution_count": 24,
   "id": "a4ac42da",
   "metadata": {},
   "outputs": [
    {
     "data": {
      "text/plain": [
       "array([[0.53836637, 0.90446257],\n",
       "       [0.44597475, 0.46859797],\n",
       "       [0.12879681, 0.61886368],\n",
       "       [0.32691861, 0.96099631],\n",
       "       [0.79635595, 0.64723138],\n",
       "       [0.20953341, 0.85458077],\n",
       "       [0.52495594, 0.25475554],\n",
       "       [0.98057389, 0.09155407]])"
      ]
     },
     "execution_count": 24,
     "metadata": {},
     "output_type": "execute_result"
    }
   ],
   "source": [
    "a4.reshape(8,-13548415)"
   ]
  },
  {
   "cell_type": "code",
   "execution_count": 25,
   "id": "e876677b",
   "metadata": {},
   "outputs": [
    {
     "data": {
      "text/plain": [
       "array([[0.53836637],\n",
       "       [0.90446257],\n",
       "       [0.44597475],\n",
       "       [0.46859797],\n",
       "       [0.12879681],\n",
       "       [0.61886368],\n",
       "       [0.32691861],\n",
       "       [0.96099631],\n",
       "       [0.79635595],\n",
       "       [0.64723138],\n",
       "       [0.20953341],\n",
       "       [0.85458077],\n",
       "       [0.52495594],\n",
       "       [0.25475554],\n",
       "       [0.98057389],\n",
       "       [0.09155407]])"
      ]
     },
     "execution_count": 25,
     "metadata": {},
     "output_type": "execute_result"
    }
   ],
   "source": [
    "a4.reshape(16,1)"
   ]
  },
  {
   "cell_type": "markdown",
   "id": "b3146048",
   "metadata": {},
   "source": [
    "# Whenever you give the negative number Numpy will automatic factorial\n",
    "\n",
    "a4.reshape(2, -1)  ## then will consider (-1) as (8)"
   ]
  },
  {
   "cell_type": "code",
   "execution_count": 36,
   "id": "1cf4b735",
   "metadata": {},
   "outputs": [
    {
     "data": {
      "text/plain": [
       "array([[0.53836637, 0.90446257, 0.44597475, 0.46859797, 0.12879681,\n",
       "        0.61886368, 0.32691861, 0.96099631],\n",
       "       [0.79635595, 0.64723138, 0.20953341, 0.85458077, 0.52495594,\n",
       "        0.25475554, 0.98057389, 0.09155407]])"
      ]
     },
     "execution_count": 36,
     "metadata": {},
     "output_type": "execute_result"
    }
   ],
   "source": [
    "a4.reshape(2, -1)"
   ]
  },
  {
   "cell_type": "code",
   "execution_count": 39,
   "id": "22614990",
   "metadata": {},
   "outputs": [
    {
     "data": {
      "text/plain": [
       "array([[0.53836637, 0.90446257, 0.44597475, 0.46859797, 0.12879681,\n",
       "        0.61886368, 0.32691861, 0.96099631],\n",
       "       [0.79635595, 0.64723138, 0.20953341, 0.85458077, 0.52495594,\n",
       "        0.25475554, 0.98057389, 0.09155407]])"
      ]
     },
     "execution_count": 39,
     "metadata": {},
     "output_type": "execute_result"
    }
   ],
   "source": [
    "a4.reshape(2, -11321649)"
   ]
  },
  {
   "cell_type": "markdown",
   "id": "64577b3b",
   "metadata": {},
   "source": [
    "# cannot reshape array of size 16 into shape (1,1,1,1,1,1,1,3,2,4)\n",
    "\n",
    "\n",
    "a4.reshape(1,1,1,1,1,1,1,3,2,4)"
   ]
  },
  {
   "cell_type": "code",
   "execution_count": 44,
   "id": "b1d4b845",
   "metadata": {},
   "outputs": [
    {
     "data": {
      "text/plain": [
       "array([[[[[[[[[[0.53836637, 0.90446257, 0.44597475, 0.46859797],\n",
       "               [0.12879681, 0.61886368, 0.32691861, 0.96099631]],\n",
       "\n",
       "              [[0.79635595, 0.64723138, 0.20953341, 0.85458077],\n",
       "               [0.52495594, 0.25475554, 0.98057389, 0.09155407]]]]]]]]]])"
      ]
     },
     "execution_count": 44,
     "metadata": {},
     "output_type": "execute_result"
    }
   ],
   "source": [
    "a4.reshape(1,1,1,1,1,1,1,2,2,4)"
   ]
  },
  {
   "cell_type": "code",
   "execution_count": 27,
   "id": "688a7627",
   "metadata": {},
   "outputs": [
    {
     "data": {
      "text/plain": [
       "array(['4', '2', '4', '5', 'Shiv', '34.325', 'True'], dtype='<U32')"
      ]
     },
     "execution_count": 27,
     "metadata": {},
     "output_type": "execute_result"
    }
   ],
   "source": [
    "a1"
   ]
  },
  {
   "cell_type": "code",
   "execution_count": 28,
   "id": "4b71eb98",
   "metadata": {},
   "outputs": [
    {
     "data": {
      "text/plain": [
       "'4'"
      ]
     },
     "execution_count": 28,
     "metadata": {},
     "output_type": "execute_result"
    }
   ],
   "source": [
    "a1[0]"
   ]
  },
  {
   "cell_type": "code",
   "execution_count": 29,
   "id": "b6f6f95c",
   "metadata": {},
   "outputs": [
    {
     "data": {
      "text/plain": [
       "array(['4', '5', 'Shiv', '34.325'], dtype='<U32')"
      ]
     },
     "execution_count": 29,
     "metadata": {},
     "output_type": "execute_result"
    }
   ],
   "source": [
    "a1[2:6]"
   ]
  },
  {
   "cell_type": "code",
   "execution_count": 30,
   "id": "f889fdc2",
   "metadata": {},
   "outputs": [
    {
     "data": {
      "text/plain": [
       "array(['4', 'Shiv'], dtype='<U32')"
      ]
     },
     "execution_count": 30,
     "metadata": {},
     "output_type": "execute_result"
    }
   ],
   "source": [
    "a1[2:6:2]"
   ]
  },
  {
   "cell_type": "code",
   "execution_count": 31,
   "id": "a0967741",
   "metadata": {},
   "outputs": [
    {
     "data": {
      "text/plain": [
       "array([[[1, 2, 3],\n",
       "        [4, 5, 6],\n",
       "        [7, 8, 9]]])"
      ]
     },
     "execution_count": 31,
     "metadata": {},
     "output_type": "execute_result"
    }
   ],
   "source": [
    "a3"
   ]
  },
  {
   "cell_type": "code",
   "execution_count": 32,
   "id": "acb2893d",
   "metadata": {},
   "outputs": [
    {
     "data": {
      "text/plain": [
       "array([[11,  2, 23],\n",
       "       [ 4,  5,  6]])"
      ]
     },
     "execution_count": 32,
     "metadata": {},
     "output_type": "execute_result"
    }
   ],
   "source": [
    "a2"
   ]
  },
  {
   "cell_type": "code",
   "execution_count": 46,
   "id": "aeb37db0",
   "metadata": {},
   "outputs": [
    {
     "data": {
      "text/plain": [
       "array([11,  2, 23])"
      ]
     },
     "execution_count": 46,
     "metadata": {},
     "output_type": "execute_result"
    }
   ],
   "source": [
    "a2[0]"
   ]
  },
  {
   "cell_type": "code",
   "execution_count": 48,
   "id": "c641c570",
   "metadata": {},
   "outputs": [
    {
     "data": {
      "text/plain": [
       "array([[ 2, 23],\n",
       "       [ 5,  6]])"
      ]
     },
     "execution_count": 48,
     "metadata": {},
     "output_type": "execute_result"
    }
   ],
   "source": [
    "a2[:,1:3]"
   ]
  },
  {
   "cell_type": "code",
   "execution_count": 47,
   "id": "91c64905",
   "metadata": {},
   "outputs": [
    {
     "data": {
      "text/plain": [
       "array([[ 2, 23],\n",
       "       [ 5,  6]])"
      ]
     },
     "execution_count": 47,
     "metadata": {},
     "output_type": "execute_result"
    }
   ],
   "source": [
    "a2[:,1:]"
   ]
  },
  {
   "cell_type": "code",
   "execution_count": 49,
   "id": "729ac9c0",
   "metadata": {},
   "outputs": [
    {
     "data": {
      "text/plain": [
       "array([[ 2, 23],\n",
       "       [ 5,  6]])"
      ]
     },
     "execution_count": 49,
     "metadata": {},
     "output_type": "execute_result"
    }
   ],
   "source": [
    "a2[:,[1,2]]"
   ]
  },
  {
   "cell_type": "code",
   "execution_count": 54,
   "id": "ca767109",
   "metadata": {},
   "outputs": [
    {
     "data": {
      "text/plain": [
       "array([[ 2, 23],\n",
       "       [ 5,  6]])"
      ]
     },
     "execution_count": 54,
     "metadata": {},
     "output_type": "execute_result"
    }
   ],
   "source": [
    "a2[[0,1], 1: ]"
   ]
  },
  {
   "cell_type": "code",
   "execution_count": 57,
   "id": "79193b27",
   "metadata": {},
   "outputs": [],
   "source": [
    "a5 = np.random.randint(2,90,(6,5))"
   ]
  },
  {
   "cell_type": "code",
   "execution_count": 58,
   "id": "42738a22",
   "metadata": {},
   "outputs": [
    {
     "data": {
      "text/plain": [
       "array([[24, 46, 20, 26, 52],\n",
       "       [62, 89, 79, 29, 19],\n",
       "       [61, 15, 38, 82, 35],\n",
       "       [62, 88, 68, 81, 42],\n",
       "       [77, 85, 15, 32, 37],\n",
       "       [54, 48, 12, 75, 88]])"
      ]
     },
     "execution_count": 58,
     "metadata": {},
     "output_type": "execute_result"
    }
   ],
   "source": [
    "a5"
   ]
  },
  {
   "cell_type": "markdown",
   "id": "368eefea",
   "metadata": {},
   "source": [
    "# return the all number greater than 40"
   ]
  },
  {
   "cell_type": "code",
   "execution_count": 59,
   "id": "ea589f01",
   "metadata": {},
   "outputs": [
    {
     "data": {
      "text/plain": [
       "array([46, 52, 62, 89, 79, 61, 82, 62, 88, 68, 81, 42, 77, 85, 54, 48, 75,\n",
       "       88])"
      ]
     },
     "execution_count": 59,
     "metadata": {},
     "output_type": "execute_result"
    }
   ],
   "source": [
    "a5[a5>40]"
   ]
  },
  {
   "cell_type": "code",
   "execution_count": 60,
   "id": "52dc2183",
   "metadata": {},
   "outputs": [
    {
     "data": {
      "text/plain": [
       "26"
      ]
     },
     "execution_count": 60,
     "metadata": {},
     "output_type": "execute_result"
    }
   ],
   "source": [
    "a5[0,3]"
   ]
  },
  {
   "cell_type": "code",
   "execution_count": 61,
   "id": "4ebd2656",
   "metadata": {},
   "outputs": [],
   "source": [
    "a5[0,3] =100"
   ]
  },
  {
   "cell_type": "code",
   "execution_count": 62,
   "id": "3ae0869f",
   "metadata": {},
   "outputs": [
    {
     "data": {
      "text/plain": [
       "array([[ 24,  46,  20, 100,  52],\n",
       "       [ 62,  89,  79,  29,  19],\n",
       "       [ 61,  15,  38,  82,  35],\n",
       "       [ 62,  88,  68,  81,  42],\n",
       "       [ 77,  85,  15,  32,  37],\n",
       "       [ 54,  48,  12,  75,  88]])"
      ]
     },
     "execution_count": 62,
     "metadata": {},
     "output_type": "execute_result"
    }
   ],
   "source": [
    "a5"
   ]
  },
  {
   "cell_type": "code",
   "execution_count": 69,
   "id": "907a0002",
   "metadata": {},
   "outputs": [],
   "source": [
    "a6 = np.random.randint(0,3, (3,3))"
   ]
  },
  {
   "cell_type": "code",
   "execution_count": 65,
   "id": "4697d0dc",
   "metadata": {},
   "outputs": [],
   "source": [
    "a7 = np.random.randint(0,3, (3,3))"
   ]
  },
  {
   "cell_type": "code",
   "execution_count": 70,
   "id": "9e5af383",
   "metadata": {},
   "outputs": [
    {
     "data": {
      "text/plain": [
       "array([[1, 0, 0],\n",
       "       [0, 2, 0],\n",
       "       [2, 1, 0]])"
      ]
     },
     "execution_count": 70,
     "metadata": {},
     "output_type": "execute_result"
    }
   ],
   "source": [
    "a6"
   ]
  },
  {
   "cell_type": "code",
   "execution_count": 67,
   "id": "a75edb9d",
   "metadata": {},
   "outputs": [
    {
     "data": {
      "text/plain": [
       "array([[2, 0, 0],\n",
       "       [1, 1, 0],\n",
       "       [0, 0, 0]])"
      ]
     },
     "execution_count": 67,
     "metadata": {},
     "output_type": "execute_result"
    }
   ],
   "source": [
    "a7"
   ]
  },
  {
   "cell_type": "code",
   "execution_count": 86,
   "id": "f7228932",
   "metadata": {},
   "outputs": [
    {
     "data": {
      "text/plain": [
       "array([[2, 0, 0],\n",
       "       [0, 2, 0],\n",
       "       [0, 0, 0]])"
      ]
     },
     "execution_count": 86,
     "metadata": {},
     "output_type": "execute_result"
    }
   ],
   "source": [
    "a6*a7"
   ]
  },
  {
   "cell_type": "markdown",
   "id": "17da20ba",
   "metadata": {},
   "source": [
    "# To do the matrix multiplication we should use the (.dot function ) or (@) between two arrays"
   ]
  },
  {
   "cell_type": "code",
   "execution_count": 87,
   "id": "23e94cd8",
   "metadata": {},
   "outputs": [
    {
     "data": {
      "text/plain": [
       "array([[2, 0, 0],\n",
       "       [2, 2, 0],\n",
       "       [5, 1, 0]])"
      ]
     },
     "execution_count": 87,
     "metadata": {},
     "output_type": "execute_result"
    }
   ],
   "source": [
    "a6@a7 "
   ]
  },
  {
   "cell_type": "code",
   "execution_count": 88,
   "id": "b5d0db0d",
   "metadata": {},
   "outputs": [
    {
     "data": {
      "text/plain": [
       "array([[2, 0, 0],\n",
       "       [0, 4, 0],\n",
       "       [4, 2, 0]])"
      ]
     },
     "execution_count": 88,
     "metadata": {},
     "output_type": "execute_result"
    }
   ],
   "source": [
    "a6*2"
   ]
  },
  {
   "cell_type": "code",
   "execution_count": 76,
   "id": "146a24e6",
   "metadata": {},
   "outputs": [
    {
     "name": "stderr",
     "output_type": "stream",
     "text": [
      "C:\\Users\\Shivaay\\AppData\\Local\\Temp\\ipykernel_9316\\1058679823.py:1: RuntimeWarning: divide by zero encountered in true_divide\n",
      "  a6/0\n",
      "C:\\Users\\Shivaay\\AppData\\Local\\Temp\\ipykernel_9316\\1058679823.py:1: RuntimeWarning: invalid value encountered in true_divide\n",
      "  a6/0\n"
     ]
    },
    {
     "data": {
      "text/plain": [
       "array([[inf, nan, nan],\n",
       "       [nan, inf, nan],\n",
       "       [inf, inf, nan]])"
      ]
     },
     "execution_count": 76,
     "metadata": {},
     "output_type": "execute_result"
    }
   ],
   "source": [
    "a6/0"
   ]
  },
  {
   "cell_type": "code",
   "execution_count": 89,
   "id": "154fbddd",
   "metadata": {},
   "outputs": [
    {
     "data": {
      "text/plain": [
       "array([[0., 0., 0., 0.],\n",
       "       [0., 0., 0., 0.],\n",
       "       [0., 0., 0., 0.],\n",
       "       [0., 0., 0., 0.]])"
      ]
     },
     "execution_count": 89,
     "metadata": {},
     "output_type": "execute_result"
    }
   ],
   "source": [
    "a8 = np.zeros((4,4))\n",
    "a8"
   ]
  },
  {
   "cell_type": "code",
   "execution_count": 90,
   "id": "2991b4a0",
   "metadata": {},
   "outputs": [
    {
     "data": {
      "text/plain": [
       "array([[1., 1., 1., 1., 1.],\n",
       "       [1., 1., 1., 1., 1.],\n",
       "       [1., 1., 1., 1., 1.],\n",
       "       [1., 1., 1., 1., 1.]])"
      ]
     },
     "execution_count": 90,
     "metadata": {},
     "output_type": "execute_result"
    }
   ],
   "source": [
    "a9 = np.ones((4,5))\n",
    "a9"
   ]
  },
  {
   "cell_type": "code",
   "execution_count": 91,
   "id": "db800713",
   "metadata": {},
   "outputs": [
    {
     "data": {
      "text/plain": [
       "array([[2., 3., 4., 5., 6.],\n",
       "       [2., 3., 4., 5., 6.],\n",
       "       [2., 3., 4., 5., 6.],\n",
       "       [2., 3., 4., 5., 6.]])"
      ]
     },
     "execution_count": 91,
     "metadata": {},
     "output_type": "execute_result"
    }
   ],
   "source": [
    "a9 + np.array([1,2,3,4,5])"
   ]
  },
  {
   "cell_type": "code",
   "execution_count": 95,
   "id": "35a7e6d6",
   "metadata": {},
   "outputs": [
    {
     "data": {
      "text/plain": [
       "array([[1],\n",
       "       [2],\n",
       "       [3],\n",
       "       [4]])"
      ]
     },
     "execution_count": 95,
     "metadata": {},
     "output_type": "execute_result"
    }
   ],
   "source": [
    "b = np.array([[1,2,3,4]]).T\n",
    "b"
   ]
  },
  {
   "cell_type": "code",
   "execution_count": 97,
   "id": "1f4c40c7",
   "metadata": {},
   "outputs": [
    {
     "data": {
      "text/plain": [
       "array([[1, 2, 3, 4]])"
      ]
     },
     "execution_count": 97,
     "metadata": {},
     "output_type": "execute_result"
    }
   ],
   "source": [
    "np.array([[1,2,3,4]])"
   ]
  },
  {
   "cell_type": "code",
   "execution_count": 94,
   "id": "7feffd02",
   "metadata": {},
   "outputs": [
    {
     "data": {
      "text/plain": [
       "array([[2., 2., 2., 2., 2.],\n",
       "       [3., 3., 3., 3., 3.],\n",
       "       [4., 4., 4., 4., 4.],\n",
       "       [5., 5., 5., 5., 5.]])"
      ]
     },
     "execution_count": 94,
     "metadata": {},
     "output_type": "execute_result"
    }
   ],
   "source": [
    "a9+ b"
   ]
  },
  {
   "cell_type": "code",
   "execution_count": 98,
   "id": "21a55c5c",
   "metadata": {},
   "outputs": [
    {
     "data": {
      "text/plain": [
       "array([[ 4.89897949,  6.78232998,  4.47213595, 10.        ,  7.21110255],\n",
       "       [ 7.87400787,  9.43398113,  8.88819442,  5.38516481,  4.35889894],\n",
       "       [ 7.81024968,  3.87298335,  6.164414  ,  9.05538514,  5.91607978],\n",
       "       [ 7.87400787,  9.38083152,  8.24621125,  9.        ,  6.4807407 ],\n",
       "       [ 8.77496439,  9.21954446,  3.87298335,  5.65685425,  6.08276253],\n",
       "       [ 7.34846923,  6.92820323,  3.46410162,  8.66025404,  9.38083152]])"
      ]
     },
     "execution_count": 98,
     "metadata": {},
     "output_type": "execute_result"
    }
   ],
   "source": [
    "np.sqrt(a5)"
   ]
  },
  {
   "cell_type": "code",
   "execution_count": 99,
   "id": "7d7e156f",
   "metadata": {},
   "outputs": [
    {
     "data": {
      "text/plain": [
       "array([[2.64891221e+10, 9.49611942e+19, 4.85165195e+08, 2.68811714e+43,\n",
       "        3.83100800e+22],\n",
       "       [8.43835667e+26, 4.48961282e+38, 2.03828107e+34, 3.93133430e+12,\n",
       "        1.78482301e+08],\n",
       "       [3.10429794e+26, 3.26901737e+06, 3.18559318e+16, 4.09399696e+35,\n",
       "        1.58601345e+15],\n",
       "       [8.43835667e+26, 1.65163625e+38, 3.40427605e+29, 1.50609731e+35,\n",
       "        1.73927494e+18],\n",
       "       [2.75851345e+33, 8.22301271e+36, 3.26901737e+06, 7.89629602e+13,\n",
       "        1.17191424e+16],\n",
       "       [2.83075330e+23, 7.01673591e+20, 1.62754791e+05, 3.73324200e+32,\n",
       "        1.65163625e+38]])"
      ]
     },
     "execution_count": 99,
     "metadata": {},
     "output_type": "execute_result"
    }
   ],
   "source": [
    "np.exp(a5)"
   ]
  },
  {
   "cell_type": "code",
   "execution_count": 100,
   "id": "814f5f3d",
   "metadata": {},
   "outputs": [
    {
     "data": {
      "text/plain": [
       "array([[1.38021124, 1.66275783, 1.30103   , 2.        , 1.71600334],\n",
       "       [1.79239169, 1.94939001, 1.89762709, 1.462398  , 1.2787536 ],\n",
       "       [1.78532984, 1.17609126, 1.5797836 , 1.91381385, 1.54406804],\n",
       "       [1.79239169, 1.94448267, 1.83250891, 1.90848502, 1.62324929],\n",
       "       [1.88649073, 1.92941893, 1.17609126, 1.50514998, 1.56820172],\n",
       "       [1.73239376, 1.68124124, 1.07918125, 1.87506126, 1.94448267]])"
      ]
     },
     "execution_count": 100,
     "metadata": {},
     "output_type": "execute_result"
    }
   ],
   "source": [
    "np.log10(a5)"
   ]
  },
  {
   "cell_type": "code",
   "execution_count": 101,
   "id": "ff5e6cf7",
   "metadata": {},
   "outputs": [
    {
     "data": {
      "text/plain": [
       "[0, 2, 4, 6, 8]"
      ]
     },
     "execution_count": 101,
     "metadata": {},
     "output_type": "execute_result"
    }
   ],
   "source": [
    "list(range(0,10,2))"
   ]
  },
  {
   "cell_type": "code",
   "execution_count": 102,
   "id": "72915349",
   "metadata": {},
   "outputs": [
    {
     "ename": "TypeError",
     "evalue": "'float' object cannot be interpreted as an integer",
     "output_type": "error",
     "traceback": [
      "\u001b[1;31m---------------------------------------------------------------------------\u001b[0m",
      "\u001b[1;31mTypeError\u001b[0m                                 Traceback (most recent call last)",
      "Input \u001b[1;32mIn [102]\u001b[0m, in \u001b[0;36m<cell line: 1>\u001b[1;34m()\u001b[0m\n\u001b[1;32m----> 1\u001b[0m \u001b[38;5;28mlist\u001b[39m(\u001b[38;5;28;43mrange\u001b[39;49m\u001b[43m(\u001b[49m\u001b[38;5;241;43m0\u001b[39;49m\u001b[43m,\u001b[49m\u001b[38;5;241;43m10\u001b[39;49m\u001b[43m,\u001b[49m\u001b[38;5;241;43m2.5\u001b[39;49m\u001b[43m)\u001b[49m)\n",
      "\u001b[1;31mTypeError\u001b[0m: 'float' object cannot be interpreted as an integer"
     ]
    }
   ],
   "source": [
    "list(range(0,10,2.5))"
   ]
  },
  {
   "cell_type": "code",
   "execution_count": 104,
   "id": "fba2ae23",
   "metadata": {},
   "outputs": [
    {
     "data": {
      "text/plain": [
       "array([0. , 2.5, 5. , 7.5])"
      ]
     },
     "execution_count": 104,
     "metadata": {},
     "output_type": "execute_result"
    }
   ],
   "source": [
    "np.arange(0,10,2.5)"
   ]
  },
  {
   "cell_type": "code",
   "execution_count": 105,
   "id": "01c47780",
   "metadata": {},
   "outputs": [
    {
     "data": {
      "text/plain": [
       "array([1. , 3.5, 6. , 8.5])"
      ]
     },
     "execution_count": 105,
     "metadata": {},
     "output_type": "execute_result"
    }
   ],
   "source": [
    "np.arange(1.0,10.25,2.5)"
   ]
  },
  {
   "cell_type": "code",
   "execution_count": 107,
   "id": "846bd117",
   "metadata": {},
   "outputs": [
    {
     "data": {
      "text/plain": [
       "(array([2.        , 2.02040816, 2.04081633, 2.06122449, 2.08163265,\n",
       "        2.10204082, 2.12244898, 2.14285714, 2.16326531, 2.18367347,\n",
       "        2.20408163, 2.2244898 , 2.24489796, 2.26530612, 2.28571429,\n",
       "        2.30612245, 2.32653061, 2.34693878, 2.36734694, 2.3877551 ,\n",
       "        2.40816327, 2.42857143, 2.44897959, 2.46938776, 2.48979592,\n",
       "        2.51020408, 2.53061224, 2.55102041, 2.57142857, 2.59183673,\n",
       "        2.6122449 , 2.63265306, 2.65306122, 2.67346939, 2.69387755,\n",
       "        2.71428571, 2.73469388, 2.75510204, 2.7755102 , 2.79591837,\n",
       "        2.81632653, 2.83673469, 2.85714286, 2.87755102, 2.89795918,\n",
       "        2.91836735, 2.93877551, 2.95918367, 2.97959184, 3.        ]),\n",
       " 0.02040816326530612)"
      ]
     },
     "execution_count": 107,
     "metadata": {},
     "output_type": "execute_result"
    }
   ],
   "source": [
    "np.linspace(2,3,num = 50,retstep= True)"
   ]
  },
  {
   "cell_type": "code",
   "execution_count": 116,
   "id": "4fa94412",
   "metadata": {},
   "outputs": [
    {
     "data": {
      "text/plain": [
       "array([ 100.        ,  215.443469  ,  464.15888336, 1000.        ])"
      ]
     },
     "execution_count": 116,
     "metadata": {},
     "output_type": "execute_result"
    }
   ],
   "source": [
    "np.logspace(2,3,num = 4, base = 10)"
   ]
  },
  {
   "cell_type": "code",
   "execution_count": 118,
   "id": "7a9c3c22",
   "metadata": {},
   "outputs": [
    {
     "data": {
      "text/plain": [
       "array([[1., 0., 0., 0., 0.],\n",
       "       [0., 1., 0., 0., 0.],\n",
       "       [0., 0., 1., 0., 0.],\n",
       "       [0., 0., 0., 1., 0.],\n",
       "       [0., 0., 0., 0., 1.]])"
      ]
     },
     "execution_count": 118,
     "metadata": {},
     "output_type": "execute_result"
    }
   ],
   "source": [
    "np.eye(5)\n",
    "\n",
    "# it creates an identity matrix"
   ]
  }
 ],
 "metadata": {
  "kernelspec": {
   "display_name": "Python 3 (ipykernel)",
   "language": "python",
   "name": "python3"
  },
  "language_info": {
   "codemirror_mode": {
    "name": "ipython",
    "version": 3
   },
   "file_extension": ".py",
   "mimetype": "text/x-python",
   "name": "python",
   "nbconvert_exporter": "python",
   "pygments_lexer": "ipython3",
   "version": "3.9.12"
  }
 },
 "nbformat": 4,
 "nbformat_minor": 5
}
